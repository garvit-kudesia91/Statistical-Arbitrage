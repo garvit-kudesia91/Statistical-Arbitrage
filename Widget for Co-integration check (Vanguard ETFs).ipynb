{
 "cells": [
  {
   "cell_type": "markdown",
   "metadata": {},
   "source": [
    "# ---------------------------------------------------------------------------\n",
    "# Widget for Co-integration check (Vanguard ETFs)\n",
    "# ---------------------------------------------------------------------------"
   ]
  },
  {
   "cell_type": "code",
   "execution_count": 1,
   "metadata": {},
   "outputs": [
    {
     "data": {
      "application/vnd.jupyter.widget-view+json": {
       "model_id": "30ab4507475946369c1a63e1dd0cb85e",
       "version_major": 2,
       "version_minor": 0
      },
      "text/plain": [
       "A Jupyter Widget"
      ]
     },
     "metadata": {},
     "output_type": "display_data"
    },
    {
     "data": {
      "text/plain": [
       "<function __main__.cointegration_check>"
      ]
     },
     "execution_count": 1,
     "metadata": {},
     "output_type": "execute_result"
    }
   ],
   "source": [
    "import warnings\n",
    "warnings.filterwarnings(\"ignore\")\n",
    "import pandas as pd\n",
    "import numpy as np\n",
    "import pandas_datareader as web\n",
    "import datetime as datetime\n",
    "import matplotlib.pyplot as plt\n",
    "%matplotlib inline  \n",
    "import arch.unitroot as at\n",
    "import statsmodels.api as sm\n",
    "import ipywidgets as widgets\n",
    "# All vanguard's issued ETFs trading currently\n",
    "list_of_etfs = ['VTI','VOO','VEA','VWO','BND','VNQ','VTV','VUG','VIG','BSV','VCSH','VEU',\n",
    "                'VO','VB','VYM','VGK','VCIT','VGT','BIV','VBR','VV','VXUS','VT','BNDX','VOE',\n",
    "                'VHT','VBK','VFH','VXF','VNQI','VOT','VPL','VMBS','VSS','VDE','VTIP','VDC','VIS',\n",
    "                'MGK','VPU','BLV','VCR','VCLT','VAW','VGSH','MGV','VOOG','VTEB','VONG','VOX','VGIT',\n",
    "                'MGC','VONV','VTWO','VWOB','VOOV','IVOO','VIOO','VONE','IVOG','IVOV','EDV','VIGI','VYMI',\n",
    "                'VGLT','VTHR','VIOG','VIOV','VTWG','VTWV']\n",
    "for etf in list_of_etfs:\n",
    "    try:\n",
    "        exec('{} = pd.DataFrame()'.format(etf))\n",
    "        exec('{} = web.get_data_google(\"{}\")'.format(etf,etf)) \n",
    "    except:\n",
    "        pass\n",
    "        \n",
    "list_of_dfs = [VTI,VOO,VEA,VWO,BND,VNQ,VTV,VUG,VIG,BSV,VCSH,VEU,VO,VB,VYM,VGK,VCIT,VGT,BIV,VBR,VV,VXUS,\n",
    "               VT,BNDX,VOE,VHT,VBK,VFH,VXF,VNQI,VOT,VPL,VMBS,VSS,VDE,VTIP,VDC,VIS,MGK,VPU,BLV,VCR,VCLT,\n",
    "               VAW,VGSH,MGV,VOOG,VTEB,VONG,VOX,VGIT,MGC,VONV,VTWO,VWOB,VOOV,IVOO,VIOO,VONE,IVOG,IVOV,EDV,\n",
    "               VIGI,VYMI,VGLT,VTHR,VIOG,VIOV,VTWG,VTWV]\n",
    "cointegrated_etfs_close_price = pd.DataFrame(columns=list_of_etfs)\n",
    "i = 0\n",
    "for df in list_of_dfs:\n",
    "    try:\n",
    "        cointegrated_etfs_close_price[cointegrated_etfs_close_price.columns[i]] = df['Close']\n",
    "    except:\n",
    "        pass\n",
    "    i = i+1  \n",
    "    \n",
    "cointegrated_etfs = pd.DataFrame(columns=list_of_etfs)\n",
    "j = 0\n",
    "for db in list_of_dfs:\n",
    "    try:\n",
    "        cointegrated_etfs[cointegrated_etfs.columns[j]] = np.log(db['Close']/db['Close'].shift(1))\n",
    "    except:\n",
    "        pass \n",
    "    j = j+1  \n",
    "def cointegration_check(selected_etf):\n",
    "    selected_etf = selected_etf[0]\n",
    "    print(\"Correlation Facts of ETF prices:- \")\n",
    "    print(\"========================================================================================================\")\n",
    "    print(\"\")  \n",
    "    for etf in list_of_etfs:\n",
    "        if (etf==selected_etf):\n",
    "            pass\n",
    "        else:\n",
    "            try:\n",
    "                print(\"The correlation between\",selected_etf,\"and\",etf,\"is\",cointegrated_etfs_close_price.loc[:,[str(selected_etf),str(etf)]].corr()[selected_etf][etf]*100,\"%\")\n",
    "            except:\n",
    "                pass\n",
    "    print(\"\")\n",
    "    print(\"========================================================================================================\")\n",
    "    print(\"\")\n",
    "    print(\"Correlation Facts of ETF returns:- \")\n",
    "    print(\"========================================================================================================\")\n",
    "    print(\"\")\n",
    "    for etf in list_of_etfs:\n",
    "        if (etf==selected_etf):\n",
    "            pass\n",
    "        else:\n",
    "            try:\n",
    "                print(\"The correlation between\",selected_etf,\"and\",etf,\"returns is\",cointegrated_etfs.loc[:,[str(selected_etf),str(etf)]].corr()[selected_etf][etf]*100,\"%\")\n",
    "            except:\n",
    "                pass\n",
    "    print(\"\")\n",
    "    print(\"========================================================================================================\")\n",
    "    print(\"Cointegration Fact of ETFs :-\")\n",
    "    print(\"========================================================================================================\")\n",
    "    print(\"\")\n",
    "    print(\"Confidence level of 95%\")\n",
    "    print(\"-----------------------------------------------------------------------------\")\n",
    "    for etf in list_of_etfs:\n",
    "        ols_result = sm.OLS(cointegrated_etfs_close_price[str(selected_etf)],cointegrated_etfs_close_price[str(etf)].astype(float)).fit()\n",
    "        coeff = ols_result.params[0]\n",
    "        error = ols_result.bse\n",
    "        error = error.values[0]\n",
    "        cointegrated_etfs_close_price['spread'] = cointegrated_etfs_close_price[str(selected_etf)] - coeff*cointegrated_etfs_close_price[str(etf)] - error\n",
    "        spreaddf = at.ADF(cointegrated_etfs_close_price['spread'])\n",
    "        if (spreaddf.pvalue<=0.05 and selected_etf!=etf):\n",
    "            print(selected_etf,\"and\",etf,\"have a strong cointegration with confidence level of 95%\")    \n",
    "        else:\n",
    "            pass \n",
    "    print(\"\")\n",
    "    print(\"-----------------------------------------------------------------------------\")\n",
    "    print(\"Confidence level of 90%\")\n",
    "    print(\"-----------------------------------------------------------------------------\")\n",
    "    for etf in list_of_etfs:\n",
    "        ols_result = sm.OLS(cointegrated_etfs_close_price[str(selected_etf)],cointegrated_etfs_close_price[str(etf)].astype(float)).fit()\n",
    "        coeff = ols_result.params[0]\n",
    "        error = ols_result.bse\n",
    "        error = error.values[0]\n",
    "        cointegrated_etfs_close_price['spread'] = cointegrated_etfs_close_price[str(selected_etf)] - coeff*cointegrated_etfs_close_price[str(etf)] - error\n",
    "        spreaddf = at.ADF(cointegrated_etfs_close_price['spread'])\n",
    "        if (spreaddf.pvalue<=0.1 and selected_etf!=etf):\n",
    "            print(selected_etf,\"and\",etf,\"have a strong cointegration with confidence level of 90% for a time period of\",round((cointegrated_etfs_close_price.index[len(cointegrated_etfs_close_price)-1]-cointegrated_etfs_close_price.index[0]).days/365,3),\"years\")    \n",
    "        else:\n",
    "            pass \n",
    "widgets.interact(cointegration_check, selected_etf = {'VTI':['VTI'],'VOO':['VOO'],'VEA':['VEA'],'VWO':['VWO'],'BND':['BND'],\n",
    "                                                      'VNQ':['VNQ'],'VTV':['VTV'],'VUG':['VUG'],'VIG':['VIG'],'BSV':['BSV'],\n",
    "                                                      'VCSH':['VCSH'],'VEU':['VEU'],'VO':['VO'],'VB':['VB'],'VYM':['VYM'],\n",
    "                                                      'VGK':['VGK'],'VCIT':['VCIT'],'VGT':['VGT'],'BIV':['BIV'],'VBR':['VBR'],\n",
    "                                                      'VV':['VV'],'VXUS':['VXUS'],'VT':['VT'],'BNDX':['BNDX'],'VOE':['VOE'],\n",
    "                                                      'VHT':['VHT'],'VBK':['VBK'],'VFH':['VFH'],'VXF':['VXF'],'VNQI':['VNQI'],\n",
    "                                                      'VOT':['VOT'],'VPL':['VPL'],'VMBS':['VMBS'],\n",
    "                                                      'VSS':['VSS'],'VDE':['VDE'],'VTIP':['VTIP'],'VDC':['VDC'],'VIS':['VIS'],'MGK':['MGK'],\n",
    "                                                      'VPU':['VPU'],'BLV':['BLV'],'VCR':['VCR'],'VCLT':['VCLT'],'VAW':['VAW'],\n",
    "                                                      'VGSH':['VGSH'],'MGV':['MGV'],'VOOG':['VOOG'],'VTEB':['VTEB'],'VONG':['VONG'],\n",
    "                                                      'VOX':['VOX'],'VGIT':['VGIT'],'MGC':['MGC'],'VONV':['VONV'],'VTWO':['VTWO'],\n",
    "                                                      'VWOB':['VWOB'],'VOOV':['VOOV'],'IVOO':['IVOO'],'VIOO':['VIOO'],'VONE':['VONE'],\n",
    "                                                      'IVOG':['IVOG'],'IVOV':['IVOV'],'EDV':['EDV'],'VIGI':['VIGI'],'VYMI':['VYMI'],\n",
    "                                                      'VGLT':['VGLT'],'VTHR':['VTHR'],'VIOG':['VIOG'],'VIOV':['VIOV'],'VTWG':['VTWG'],\n",
    "                                                      'VTWV':['VTWV']})    "
   ]
  }
 ],
 "metadata": {
  "kernelspec": {
   "display_name": "Python 3",
   "language": "python",
   "name": "python3"
  },
  "language_info": {
   "codemirror_mode": {
    "name": "ipython",
    "version": 3
   },
   "file_extension": ".py",
   "mimetype": "text/x-python",
   "name": "python",
   "nbconvert_exporter": "python",
   "pygments_lexer": "ipython3",
   "version": "3.6.2"
  }
 },
 "nbformat": 4,
 "nbformat_minor": 2
}
